{
 "cells": [
  {
   "cell_type": "code",
   "execution_count": null,
   "metadata": {},
   "outputs": [],
   "source": [
    "%load_ext autoreload\n",
    "%autoreload 2"
   ]
  },
  {
   "cell_type": "code",
   "execution_count": null,
   "metadata": {},
   "outputs": [],
   "source": [
    "import os\n",
    "import sys\n",
    "\n",
    "# Install if in Google colab notebook\n",
    "if 'google.colab' in sys.modules:\n",
    "    os.system('python -m pip install --upgrade git+https://github.com/manzt/hg')"
   ]
  },
  {
   "cell_type": "markdown",
   "metadata": {},
   "source": [
    "## Synced heatmaps"
   ]
  },
  {
   "cell_type": "code",
   "execution_count": null,
   "metadata": {},
   "outputs": [],
   "source": [
    "import hg\n",
    "import hg.tilesets\n",
    "\n",
    "remote_tileset = hg.tilesets.remote(\n",
    "    uid='CQMd6V_cRw6iCI_-Unl3PQ',\n",
    "    server='https://higlass.io/api/v1/',\n",
    ")\n",
    "\n",
    "view1 = hg.view(\n",
    "    hg.Tracks(\n",
    "        top=[hg.track('top-axis')],\n",
    "        center=[remote_tileset.track('heatmap')],\n",
    "    ),\n",
    "    width=6,\n",
    ")\n",
    "\n",
    "view2 = view1.move(x=6)\n",
    "\n",
    "view_lock = hg.lock(view1, view2) # lock a variable number of views\n",
    "\n",
    "# lock both zoom and location\n",
    "hg.viewconf(view1, view2).locks(view_lock)"
   ]
  },
  {
   "cell_type": "code",
   "execution_count": null,
   "metadata": {},
   "outputs": [],
   "source": [
    "# lock zoom only\n",
    "hg.viewconf(view1, view2).locks(zoom=view_lock)"
   ]
  },
  {
   "cell_type": "code",
   "execution_count": null,
   "metadata": {},
   "outputs": [],
   "source": [
    "# lock location only\n",
    "hg.viewconf(view1, view2).locks(location=view_lock)"
   ]
  },
  {
   "cell_type": "code",
   "execution_count": null,
   "metadata": {},
   "outputs": [],
   "source": [
    "view3 = view1.move(y=1)\n",
    "view4 = view2.move(y=1)\n",
    "hg.viewconf(view1, view2, view3, view4).locks(\n",
    "    hg.lock(view1, view2),\n",
    "    hg.lock(view3, view4),\n",
    ")"
   ]
  },
  {
   "cell_type": "markdown",
   "metadata": {},
   "source": [
    "## Value scale syncing"
   ]
  },
  {
   "cell_type": "code",
   "execution_count": null,
   "metadata": {},
   "outputs": [],
   "source": [
    "# Create Tracks\n",
    "\n",
    "# creates a hg.Track without a tileset\n",
    "t1 = hg.track('top-axis')\n",
    "\n",
    "# Creates a hg.RemoteTileset object\n",
    "remote_tileset = hg.tilesets.remote(\n",
    "    uid='CQMd6V_cRw6iCI_-Unl3PQ',\n",
    "    server=\"https://higlass.io/api/v1/\", # optional, \"http://higlass.io/api/v1/\" default\n",
    ")\n",
    "\n",
    "# Tileset.track() creates a hg.Track object binding the parent Tileset \n",
    "t2 = remote_tileset.track('heatmap', width=250)\n",
    "\n",
    "# set the options for the returned track\n",
    "t2 = t2.opts(valueScaleMax=0.5) \n",
    "\n",
    "\n",
    "# Create Views \n",
    "\n",
    "# Positional arguments for `hg.view` are overloaded. Keyword arguments are \n",
    "# forwarded to the creation of the `hg.View`. Layout fields (`x`, `y`, \n",
    "# `width`, `height`) may also be assigned.\n",
    "\n",
    "# (1) Track objects (positioning guessed based on track type)\n",
    "view1 = hg.view(t1, t2, width=6)\n",
    "\n",
    "# (2) (Track, position) tuple\n",
    "view2 = hg.view((t1, 'top'), t2, width=6, x=6)\n",
    "\n",
    "# (3) hg.Tracks object\n",
    "view3 = hg.view(hg.Tracks(top=[t1], center=[t2]), width=6, x=6)\n",
    "\n",
    "scale_value_lock = hg.lock((view1, t2), (view2, t2)) # (View, Track) tuples -> ScaleValueLock\n",
    "\n",
    "hg.viewconf(view1, view2).locks(scale_value_lock)"
   ]
  },
  {
   "cell_type": "markdown",
   "metadata": {},
   "source": [
    "## Remote heatmaps"
   ]
  },
  {
   "cell_type": "code",
   "execution_count": null,
   "metadata": {},
   "outputs": [],
   "source": [
    "tset1 = hg.tilesets.remote(uid='CQMd6V_cRw6iCI_-Unl3PQ', server='https://higlass.io/api/v1/')\n",
    "tset2 = hg.tilesets.remote(uid='QvdMEvccQuOxKTEjrVL3wA')\n",
    "\n",
    "t1 = tset1.track('heatmap', height=210)\n",
    "t2 = tset2.track('heatmap', height=210)\n",
    "t3 = hg.divide(t1, t2).opts(\n",
    "    colorRange=['blue', 'brown'],\n",
    "    valueScaleMin=0.1,\n",
    "    valueScaleMax=10,\n",
    ")\n",
    "\n",
    "domain = (7e7, 8e7)\n",
    "\n",
    "v1 = hg.view(t1, x=0, width=4).domain(x=domain)\n",
    "v2 = hg.view(t3, x=4, width=4).domain(x=domain)\n",
    "v3 = hg.view(t2, x=8, width=4).domain(x=domain)\n",
    "\n",
    "hg.viewconf(v1, v3, v2)"
   ]
  },
  {
   "cell_type": "markdown",
   "metadata": {},
   "source": [
    "## Extract track from another view config"
   ]
  },
  {
   "cell_type": "code",
   "execution_count": null,
   "metadata": {},
   "outputs": [],
   "source": [
    "import urllib.request as urllib\n",
    "\n",
    "url = 'https://gist.githubusercontent.com/manzt/c2c498dac3ca9804a2b8e4bc1af3b55b/raw/ee8426c9728e875b6f4d65030c61181c6ba29b53/example.json'\n",
    "with urllib.urlopen(urllib.Request(url)) as response:\n",
    "    raw = response.read()\n",
    "    config = hg.Viewconf.parse_raw(raw)\n",
    "        \n",
    "config # a pydantic BaseModel https://pydantic-docs.helpmanual.io/usage/models/"
   ]
  },
  {
   "cell_type": "code",
   "execution_count": null,
   "metadata": {},
   "outputs": [],
   "source": [
    "gene_annotation_track = config.views[0].tracks.top[0].properties(height=200)\n",
    "hg.viewconf(hg.view(gene_annotation_track))"
   ]
  },
  {
   "cell_type": "markdown",
   "metadata": {},
   "source": [
    "## Remote bigWig tiles ---- TODO , old higlass-python api"
   ]
  },
  {
   "cell_type": "code",
   "execution_count": null,
   "metadata": {},
   "outputs": [],
   "source": [
    "import higlass\n",
    "from higlass.client import View, Track\n",
    "import higlass.tilesets\n",
    "\n",
    "ts1 = higlass.tilesets.bigwig(\n",
    "    'http://hgdownload.cse.ucsc.edu/goldenpath/hg19/encodeDCC/wgEncodeSydhTfbs/wgEncodeSydhTfbsGm12878InputStdSig.bigWig')\n",
    "view1 = View([Track('horizontal-bar', tileset=ts1)])\n",
    "display, server, viewconf = higlass.display([view1], fuse=False)\n",
    "\n",
    "display"
   ]
  },
  {
   "cell_type": "markdown",
   "metadata": {},
   "source": [
    "## Local cooler files\n",
    "\n",
    "This section describes how to load cooler files that are on the same filesystem as the Jupyter notebook. If the Jupyter kernel is not running on localhost, see the section on [Remote Jupyter notebooks](https://docs-python.higlass.io/getting_started.html#remote-jupyter-notebook) in the docs."
   ]
  },
  {
   "cell_type": "code",
   "execution_count": null,
   "metadata": {},
   "outputs": [],
   "source": [
    "ts1 = higlass.tilesets.cooler('../test/data/Dixon2012-J1-NcoI-R1-filtered.100kb.multires.cool')\n",
    "tr1 = Track('heatmap', tileset=ts1)\n",
    "view1 = View([tr1])\n",
    "display, server, viewconf = higlass.display([view1])\n",
    "\n",
    "display"
   ]
  },
  {
   "cell_type": "markdown",
   "metadata": {},
   "source": [
    "## Local bigWig files (with chromsizes)"
   ]
  },
  {
   "cell_type": "code",
   "execution_count": null,
   "metadata": {},
   "outputs": [],
   "source": [
    "chromsizes = [\n",
    " ('chr1', 249250621),\n",
    " ('chr2', 243199373),\n",
    " ('chr3', 198022430),\n",
    " ('chr4', 191154276),\n",
    " ('chr5', 180915260),\n",
    " ('chr6', 171115067),\n",
    " ('chr7', 159138663),\n",
    " ('chr8', 146364022),\n",
    " ('chr9', 141213431),\n",
    " ('chr10', 135534747),\n",
    " ('chr11', 135006516),\n",
    " ('chr12', 133851895),\n",
    " ('chr13', 115169878),\n",
    " ('chr14', 107349540),\n",
    " ('chr15', 102531392),\n",
    " ('chr16', 90354753),\n",
    " ('chr17', 81195210),\n",
    " ('chr18', 78077248),\n",
    " ('chr20', 63025520),\n",
    " ('chr19', 59128983),\n",
    " ('chr21', 48129895),\n",
    " ('chr22', 51304566),\n",
    " ('chrX', 155270560),\n",
    " ('chrY', 59373566),\n",
    " ('chrM', 16571),\n",
    "]\n",
    "\n",
    "bigwig_fp = '../test/data/wgEncodeCaltechRnaSeqHuvecR1x75dTh1014IlnaPlusSignalRep2.bigWig'\n",
    "ts = higlass.tilesets.bigwig(bigwig_fp, chromsizes=chromsizes)\n",
    "cs = higlass.tilesets.ChromSizes(chromsizes)\n",
    "\n",
    "view1 = View([\n",
    "    Track('top-axis'),\n",
    "    Track('horizontal-bar', tileset=ts),\n",
    "    Track('horizontal-chromosome-labels', position='top', tileset=cs)\n",
    "])\n",
    "display, server, viewconf = higlass.display([view1])\n",
    "\n",
    "display"
   ]
  },
  {
   "cell_type": "markdown",
   "metadata": {},
   "source": [
    "## Local bedlike data"
   ]
  },
  {
   "cell_type": "code",
   "execution_count": null,
   "metadata": {},
   "outputs": [],
   "source": [
    "from higlass.client import View, Track\n",
    "from higlass.inline_tiles import bedtiles\n",
    "import higlass\n",
    "\n",
    "bed = [['chr1', 1000, 2000, 'item #1', '.', '+'],\n",
    "       ['chr2', 3000, 3500, 'item #1', '.', '-']]\n",
    "\n",
    "chroms = [['chr1', 2100], ['chr2', 4000]]\n",
    "\n",
    "\n",
    "data = bedtiles(bed, chroms)\n",
    "track = Track(track_type='bedlike', position='top',\n",
    "              height=50, data=data, options={\"minusStrandColor\": \"red\"})\n",
    "\n",
    "\n",
    "d,s,v = higlass.display([[track]])\n",
    "d"
   ]
  },
  {
   "cell_type": "markdown",
   "metadata": {},
   "source": [
    "## Custom data"
   ]
  },
  {
   "cell_type": "code",
   "execution_count": null,
   "metadata": {},
   "outputs": [],
   "source": [
    "import numpy as np\n",
    "\n",
    "dim = 2000\n",
    "I, J = np.indices((dim, dim))\n",
    "data = (\n",
    "    -(J + 47) * np.sin(np.sqrt(np.abs(I / 2 + (J + 47)))) \n",
    "    - I * np.sin(np.sqrt(np.abs(I - (J + 47))))\n",
    ")"
   ]
  },
  {
   "cell_type": "code",
   "execution_count": null,
   "metadata": {},
   "outputs": [],
   "source": [
    "import clodius.tiles.npmatrix\n",
    "from higlass.tilesets import Tileset\n",
    "\n",
    "ts = Tileset(\n",
    "    tileset_info=lambda: clodius.tiles.npmatrix.tileset_info(data),\n",
    "    tiles=lambda tids: clodius.tiles.npmatrix.tiles_wrapper(data, tids)\n",
    ")\n",
    "\n",
    "display, server, viewconf = higlass.display([\n",
    "    View([\n",
    "        Track(track_type='top-axis', position='top'),\n",
    "        Track(track_type='left-axis', position='left'),\n",
    "        Track(track_type='heatmap', \n",
    "                  position='center',\n",
    "                  tileset=ts,\n",
    "                  height=250,\n",
    "                 options={ 'valueScaleMax': 0.5 }),\n",
    "\n",
    "    ])\n",
    "])\n",
    "display"
   ]
  },
  {
   "cell_type": "code",
   "execution_count": null,
   "metadata": {},
   "outputs": [],
   "source": [
    "%%time\n",
    "\n",
    "import requests\n",
    "import json\n",
    "\n",
    "url = 'http://localhost:{}/api/v1/register_url/'.format(server.port)\n",
    "print('url:', url)\n",
    "ret = requests.post(url,\n",
    "             json={\n",
    "                 'fileUrl': 'http://hgdownload.cse.ucsc.edu/goldenpath/hg19/encodeDCC/wgEncodeSydhTfbs/wgEncodeSydhTfbsGm12878InputStdSig.bigWig',\n",
    "                 #'fileUrl': 'http://localhost:8111/wgEncodeCaltechRnaSeqHuvecR1x75dTh1014IlnaPlusSignalRep2.bigWig',\n",
    "                 'filetype': \"bigwig\"\n",
    "             })\n",
    "\n",
    "print(\"content:\", ret.content)\n",
    "\n",
    "uid = json.loads(ret.content)['uid']\n",
    "url = 'http://localhost:{}/api/v1/tiles/?d={}.2.0&d={}.2.1&d={}.2.2'.format(server.port, uid, uid, uid)\n",
    "#url = \"http://localhost:8111/wgEncodeCaltechRnaSeqHuvecR1x75dTh1014IlnaPlusSignalRep2.bigWig\"\n",
    "req = requests.get(url)\n",
    "print('req', req.content)\n",
    "\n",
    "\"\"\"\n",
    "url = 'http://localhost:{}/api/v1/tileset_info/?d={}'.format(server.port, uid)\n",
    "print('url:', url);\n",
    "req = requests.get(url)\n",
    "print('req', req.content)\n",
    "\"\"\""
   ]
  },
  {
   "cell_type": "code",
   "execution_count": null,
   "metadata": {},
   "outputs": [],
   "source": []
  }
 ],
 "metadata": {
  "kernelspec": {
   "display_name": "Python 3 (ipykernel)",
   "language": "python",
   "name": "python3"
  },
  "language_info": {
   "codemirror_mode": {
    "name": "ipython",
    "version": 3
   },
   "file_extension": ".py",
   "mimetype": "text/x-python",
   "name": "python",
   "nbconvert_exporter": "python",
   "pygments_lexer": "ipython3",
   "version": "3.8.12"
  }
 },
 "nbformat": 4,
 "nbformat_minor": 4
}
