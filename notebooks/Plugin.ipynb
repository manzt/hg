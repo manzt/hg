{
 "cells": [
  {
   "cell_type": "code",
   "execution_count": 1,
   "id": "113ff05d",
   "metadata": {},
   "outputs": [],
   "source": [
    "# Config taken from https://github.com/higlass/higlass-pileup \n",
    "config = {\n",
    "  \"editable\": True,\n",
    "  \"trackSourceServers\": [\"http://higlass.io/api/v1\"],\n",
    "  \"exportViewUrl\": \"/api/v1/viewconfs\",\n",
    "  \"views\": [\n",
    "    {\n",
    "      \"initialXDomain\": [0, 100000],\n",
    "      \"tracks\": {\n",
    "        \"top\": [\n",
    "          {\n",
    "            \"type\": \"pileup\",\n",
    "            \"options\": {\n",
    "              \"axisPositionHorizontal\": \"right\",\n",
    "              \"axisLabelFormatting\": \"normal\",\n",
    "              \"showCoverage\": True,\n",
    "              \"colorScale\": [\n",
    "                \"#2c7bb6\",\n",
    "                \"#92c5de\",\n",
    "                \"#ffffbf\",\n",
    "                \"#fdae61\",\n",
    "                \"#808080\",\n",
    "                \"#DCDCDC\"\n",
    "              ]\n",
    "            },\n",
    "            \"height\": 180,\n",
    "            \"uid\": \"FylkvVBTSumoJ959HT4-5A\",\n",
    "            \"data\": {\n",
    "              \"type\": \"bam\",\n",
    "              \"url\": \"https://pkerp.s3.amazonaws.com/public/bamfile_test/SRR1770413.sorted.bam\",\n",
    "              \"chromSizesUrl\": \"https://pkerp.s3.amazonaws.com/public/bamfile_test/GCF_000005845.2_ASM584v2_genomic.chrom.sizes\",\n",
    "              \"options\": { \"maxTileWidth\": 30000 },\n",
    "            },\n",
    "            \"width\": 470\n",
    "          }\n",
    "        ]\n",
    "      },\n",
    "      \"layout\": { \"w\": 12, \"h\": 6, \"x\": 0, \"y\": 0 }\n",
    "    }\n",
    "  ]\n",
    "}"
   ]
  },
  {
   "cell_type": "code",
   "execution_count": 2,
   "id": "f8e9e479",
   "metadata": {},
   "outputs": [],
   "source": [
    "from rich import print"
   ]
  },
  {
   "cell_type": "code",
   "execution_count": 3,
   "id": "b143f386",
   "metadata": {},
   "outputs": [
    {
     "ename": "ValidationError",
     "evalue": "8 validation errors for Viewconf\nviews -> 0 -> tracks -> top -> 0 -> type\n  unexpected value; permitted: 'viewport-projection-center', 'viewport-projection-vertical', 'viewport-projection-horizontal' (type=value_error.const; given=pileup; permitted=('viewport-projection-center', 'viewport-projection-vertical', 'viewport-projection-horizontal'))\nviews -> 0 -> tracks -> top -> 0 -> type\n  unexpected value; permitted: 'multivec', '1d-heatmap', 'line', 'point', 'bar', 'divergent-bar', 'stacked-interval', 'gene-annotations', 'linear-2d-rectangle-domains', 'chromosome-labels', 'linear-heatmap', '1d-value-interval', '2d-annotations', '2d-chromosome-annotations', '2d-chromosome-grid', '2d-chromosome-labels', '2d-rectangle-domains', '2d-tiles', 'arrowhead-domains', 'bedlike', 'cross-rule', 'dummy', 'horizontal-1d-annotations', 'horizontal-1d-heatmap', 'horizontal-1d-tiles', 'horizontal-1d-value-interval', 'horizontal-2d-rectangle-domains', 'horizontal-bar', 'horizontal-chromosome-grid', 'horizontal-chromosome-labels', 'horizontal-divergent-bar', 'horizontal-gene-annotations', 'horizontal-heatmap', 'horizontal-line', 'horizontal-multivec', 'horizontal-point', 'horizontal-rule', 'horizontal-vector-heatmap', 'image-tiles', 'left-axis', 'left-stacked-interval', 'mapbox-tiles', 'osm-2d-tile-ids', 'osm-tiles', 'raster-tiles', 'simple-svg', 'square-markers', 'top-axis', 'top-stacked-interval', 'vertical-1d-annotations', 'vertical-1d-heatmap', 'vertical-1d-tiles', 'vertical-1d-value-interval', 'vertical-2d-rectangle-domains', 'vertical-bar', 'vertical-bedlike', 'vertical-chromosome-grid', 'vertical-chromosome-labels', 'vertical-gene-annotations', 'vertical-heatmap', 'vertical-line', 'vertical-multivec', 'vertical-point', 'vertical-rule', 'vertical-vector-heatmap' (type=value_error.const; given=pileup; permitted=('multivec', '1d-heatmap', 'line', 'point', 'bar', 'divergent-bar', 'stacked-interval', 'gene-annotations', 'linear-2d-rectangle-domains', 'chromosome-labels', 'linear-heatmap', '1d-value-interval', '2d-annotations', '2d-chromosome-annotations', '2d-chromosome-grid', '2d-chromosome-labels', '2d-rectangle-domains', '2d-tiles', 'arrowhead-domains', 'bedlike', 'cross-rule', 'dummy', 'horizontal-1d-annotations', 'horizontal-1d-heatmap', 'horizontal-1d-tiles', 'horizontal-1d-value-interval', 'horizontal-2d-rectangle-domains', 'horizontal-bar', 'horizontal-chromosome-grid', 'horizontal-chromosome-labels', 'horizontal-divergent-bar', 'horizontal-gene-annotations', 'horizontal-heatmap', 'horizontal-line', 'horizontal-multivec', 'horizontal-point', 'horizontal-rule', 'horizontal-vector-heatmap', 'image-tiles', 'left-axis', 'left-stacked-interval', 'mapbox-tiles', 'osm-2d-tile-ids', 'osm-tiles', 'raster-tiles', 'simple-svg', 'square-markers', 'top-axis', 'top-stacked-interval', 'vertical-1d-annotations', 'vertical-1d-heatmap', 'vertical-1d-tiles', 'vertical-1d-value-interval', 'vertical-2d-rectangle-domains', 'vertical-bar', 'vertical-bedlike', 'vertical-chromosome-grid', 'vertical-chromosome-labels', 'vertical-gene-annotations', 'vertical-heatmap', 'vertical-line', 'vertical-multivec', 'vertical-point', 'vertical-rule', 'vertical-vector-heatmap'))\nviews -> 0 -> tracks -> top -> 0 -> type\n  unexpected value; permitted: 'heatmap' (type=value_error.const; given=pileup; permitted=('heatmap',))\nviews -> 0 -> tracks -> top -> 0 -> type\n  unexpected value; permitted: 'viewport-projection-center', 'viewport-projection-vertical', 'viewport-projection-horizontal' (type=value_error.const; given=pileup; permitted=('viewport-projection-center', 'viewport-projection-vertical', 'viewport-projection-horizontal'))\nviews -> 0 -> tracks -> top -> 0 -> data\n  extra fields not permitted (type=value_error.extra)\nviews -> 0 -> tracks -> top -> 0 -> type\n  unexpected value; permitted: 'combined' (type=value_error.const; given=pileup; permitted=('combined',))\nviews -> 0 -> tracks -> top -> 0 -> contents\n  field required (type=value_error.missing)\nviews -> 0 -> tracks -> top -> 0 -> data\n  extra fields not permitted (type=value_error.extra)",
     "output_type": "error",
     "traceback": [
      "\u001b[0;31m---------------------------------------------------------------------------\u001b[0m",
      "\u001b[0;31mValidationError\u001b[0m                           Traceback (most recent call last)",
      "\u001b[0;32m/var/folders/yj/yjqdkffx5bz6lfltc291nwvm0000gn/T/ipykernel_94711/1115634514.py\u001b[0m in \u001b[0;36m<module>\u001b[0;34m\u001b[0m\n\u001b[1;32m      1\u001b[0m \u001b[0;32mimport\u001b[0m \u001b[0mhg\u001b[0m\u001b[0;34m\u001b[0m\u001b[0;34m\u001b[0m\u001b[0m\n\u001b[0;32m----> 2\u001b[0;31m \u001b[0mhg\u001b[0m\u001b[0;34m.\u001b[0m\u001b[0mViewconf\u001b[0m\u001b[0;34m(\u001b[0m\u001b[0;34m**\u001b[0m\u001b[0mconfig\u001b[0m\u001b[0;34m)\u001b[0m \u001b[0;31m# oh no, track not recognized!\u001b[0m\u001b[0;34m\u001b[0m\u001b[0;34m\u001b[0m\u001b[0m\n\u001b[0m",
      "\u001b[0;32m~/dev/miniconda3/envs/hg/lib/python3.7/site-packages/pydantic/main.cpython-37m-darwin.so\u001b[0m in \u001b[0;36mpydantic.main.BaseModel.__init__\u001b[0;34m()\u001b[0m\n",
      "\u001b[0;31mValidationError\u001b[0m: 8 validation errors for Viewconf\nviews -> 0 -> tracks -> top -> 0 -> type\n  unexpected value; permitted: 'viewport-projection-center', 'viewport-projection-vertical', 'viewport-projection-horizontal' (type=value_error.const; given=pileup; permitted=('viewport-projection-center', 'viewport-projection-vertical', 'viewport-projection-horizontal'))\nviews -> 0 -> tracks -> top -> 0 -> type\n  unexpected value; permitted: 'multivec', '1d-heatmap', 'line', 'point', 'bar', 'divergent-bar', 'stacked-interval', 'gene-annotations', 'linear-2d-rectangle-domains', 'chromosome-labels', 'linear-heatmap', '1d-value-interval', '2d-annotations', '2d-chromosome-annotations', '2d-chromosome-grid', '2d-chromosome-labels', '2d-rectangle-domains', '2d-tiles', 'arrowhead-domains', 'bedlike', 'cross-rule', 'dummy', 'horizontal-1d-annotations', 'horizontal-1d-heatmap', 'horizontal-1d-tiles', 'horizontal-1d-value-interval', 'horizontal-2d-rectangle-domains', 'horizontal-bar', 'horizontal-chromosome-grid', 'horizontal-chromosome-labels', 'horizontal-divergent-bar', 'horizontal-gene-annotations', 'horizontal-heatmap', 'horizontal-line', 'horizontal-multivec', 'horizontal-point', 'horizontal-rule', 'horizontal-vector-heatmap', 'image-tiles', 'left-axis', 'left-stacked-interval', 'mapbox-tiles', 'osm-2d-tile-ids', 'osm-tiles', 'raster-tiles', 'simple-svg', 'square-markers', 'top-axis', 'top-stacked-interval', 'vertical-1d-annotations', 'vertical-1d-heatmap', 'vertical-1d-tiles', 'vertical-1d-value-interval', 'vertical-2d-rectangle-domains', 'vertical-bar', 'vertical-bedlike', 'vertical-chromosome-grid', 'vertical-chromosome-labels', 'vertical-gene-annotations', 'vertical-heatmap', 'vertical-line', 'vertical-multivec', 'vertical-point', 'vertical-rule', 'vertical-vector-heatmap' (type=value_error.const; given=pileup; permitted=('multivec', '1d-heatmap', 'line', 'point', 'bar', 'divergent-bar', 'stacked-interval', 'gene-annotations', 'linear-2d-rectangle-domains', 'chromosome-labels', 'linear-heatmap', '1d-value-interval', '2d-annotations', '2d-chromosome-annotations', '2d-chromosome-grid', '2d-chromosome-labels', '2d-rectangle-domains', '2d-tiles', 'arrowhead-domains', 'bedlike', 'cross-rule', 'dummy', 'horizontal-1d-annotations', 'horizontal-1d-heatmap', 'horizontal-1d-tiles', 'horizontal-1d-value-interval', 'horizontal-2d-rectangle-domains', 'horizontal-bar', 'horizontal-chromosome-grid', 'horizontal-chromosome-labels', 'horizontal-divergent-bar', 'horizontal-gene-annotations', 'horizontal-heatmap', 'horizontal-line', 'horizontal-multivec', 'horizontal-point', 'horizontal-rule', 'horizontal-vector-heatmap', 'image-tiles', 'left-axis', 'left-stacked-interval', 'mapbox-tiles', 'osm-2d-tile-ids', 'osm-tiles', 'raster-tiles', 'simple-svg', 'square-markers', 'top-axis', 'top-stacked-interval', 'vertical-1d-annotations', 'vertical-1d-heatmap', 'vertical-1d-tiles', 'vertical-1d-value-interval', 'vertical-2d-rectangle-domains', 'vertical-bar', 'vertical-bedlike', 'vertical-chromosome-grid', 'vertical-chromosome-labels', 'vertical-gene-annotations', 'vertical-heatmap', 'vertical-line', 'vertical-multivec', 'vertical-point', 'vertical-rule', 'vertical-vector-heatmap'))\nviews -> 0 -> tracks -> top -> 0 -> type\n  unexpected value; permitted: 'heatmap' (type=value_error.const; given=pileup; permitted=('heatmap',))\nviews -> 0 -> tracks -> top -> 0 -> type\n  unexpected value; permitted: 'viewport-projection-center', 'viewport-projection-vertical', 'viewport-projection-horizontal' (type=value_error.const; given=pileup; permitted=('viewport-projection-center', 'viewport-projection-vertical', 'viewport-projection-horizontal'))\nviews -> 0 -> tracks -> top -> 0 -> data\n  extra fields not permitted (type=value_error.extra)\nviews -> 0 -> tracks -> top -> 0 -> type\n  unexpected value; permitted: 'combined' (type=value_error.const; given=pileup; permitted=('combined',))\nviews -> 0 -> tracks -> top -> 0 -> contents\n  field required (type=value_error.missing)\nviews -> 0 -> tracks -> top -> 0 -> data\n  extra fields not permitted (type=value_error.extra)"
     ]
    }
   ],
   "source": [
    "import hg\n",
    "hg.Viewconf(**config) # oh no, track not recognized!"
   ]
  },
  {
   "cell_type": "code",
   "execution_count": 4,
   "id": "695eb664",
   "metadata": {
    "scrolled": true
   },
   "outputs": [
    {
     "data": {
      "text/html": [
       "\n",
       "<!DOCTYPE html>\n",
       "<html>\n",
       "<head>\n",
       "  <link rel=\"stylesheet\" href=\"https://maxcdn.bootstrapcdn.com/bootstrap/3.3.7/css/bootstrap.min.css\">\n",
       "  <link rel=\"stylesheet\" href=\"https://unpkg.com/higlass@1.11/dist/hglib.css\">\n",
       "</head>\n",
       "<body>\n",
       "  <div id=\"jupyter-hg-01bba736631c4b328d5f76a17195ad89\"></div>\n",
       "  <script type=\"module\">\n",
       "\n",
       "    async function loadScript(src) {\n",
       "        return new Promise(resolve => {\n",
       "            const script = document.createElement('script');\n",
       "            script.onload = resolve;\n",
       "            script.src = src;\n",
       "            script.async = false;\n",
       "            document.head.appendChild(script);\n",
       "        });\n",
       "    }\n",
       "\n",
       "    async function loadHiglass() {\n",
       "        // Manually load scripts from window namespace since requirejs might not be\n",
       "        // available in all browser environments.\n",
       "        // https://github.com/DanielHreben/requirejs-toggle\n",
       "        if (!window.hglib) {\n",
       "            window.__requirejsToggleBackup = {\n",
       "                define: window.define,\n",
       "                require: window.require,\n",
       "                requirejs: window.requirejs,\n",
       "            };\n",
       "            for (const field of Object.keys(window.__requirejsToggleBackup)) {\n",
       "                window[field] = undefined;\n",
       "            }\n",
       "\n",
       "            // load dependencies sequentially\n",
       "            const sources = [\n",
       "                \"https://unpkg.com/react@17/umd/react.production.min.js\",\n",
       "                \"https://unpkg.com/react-dom@17/umd/react-dom.production.min.js\",\n",
       "                \"https://unpkg.com/pixi.js@6/dist/browser/pixi.min.js\",\n",
       "                \"https://unpkg.com/react-bootstrap@0.32.1/dist/react-bootstrap.min.js\",\n",
       "                \"https://unpkg.com/higlass@1.11/dist/hglib.js\",\n",
       "                \"https://unpkg.com/higlass-pileup/dist/higlass-pileup.min.js\",\n",
       "            ];\n",
       "\n",
       "            for (const src of sources) await loadScript(src);\n",
       "\n",
       "            // restore requirejs after scripts have loaded\n",
       "            Object.assign(window, window.__requirejsToggleBackup);\n",
       "            delete window.__requirejsToggleBackup;\n",
       "        }\n",
       "        return window.hglib;\n",
       "    };\n",
       "\n",
       "    var el = document.getElementById('jupyter-hg-01bba736631c4b328d5f76a17195ad89');\n",
       "    var spec = JSON.parse(\"{\\\"editable\\\": true, \\\"viewEditable\\\": true, \\\"tracksEditable\\\": true, \\\"exportViewUrl\\\": \\\"/api/v1/viewconfs\\\", \\\"trackSourceServers\\\": [\\\"http://higlass.io/api/v1\\\"], \\\"views\\\": [{\\\"layout\\\": {\\\"x\\\": 0, \\\"y\\\": 0, \\\"w\\\": 12, \\\"h\\\": 6}, \\\"tracks\\\": {\\\"top\\\": [{\\\"type\\\": \\\"pileup\\\", \\\"uid\\\": \\\"FylkvVBTSumoJ959HT4-5A\\\", \\\"width\\\": 470, \\\"height\\\": 180, \\\"options\\\": {\\\"axisPositionHorizontal\\\": \\\"right\\\", \\\"axisLabelFormatting\\\": \\\"normal\\\", \\\"showCoverage\\\": true, \\\"colorScale\\\": [\\\"#2c7bb6\\\", \\\"#92c5de\\\", \\\"#ffffbf\\\", \\\"#fdae61\\\", \\\"#808080\\\", \\\"#DCDCDC\\\"]}, \\\"data\\\": {\\\"type\\\": \\\"bam\\\", \\\"url\\\": \\\"https://pkerp.s3.amazonaws.com/public/bamfile_test/SRR1770413.sorted.bam\\\", \\\"chromSizesUrl\\\": \\\"https://pkerp.s3.amazonaws.com/public/bamfile_test/GCF_000005845.2_ASM584v2_genomic.chrom.sizes\\\", \\\"options\\\": {\\\"maxTileWidth\\\": 30000}}}]}, \\\"initialXDomain\\\": [0.0, 100000.0], \\\"zoomLimits\\\": [1, null]}]}\");\n",
       "\n",
       "    loadHiglass().then(hglib => {\n",
       "        hglib.viewer(el, spec);\n",
       "    })\n",
       "  </script>\n",
       "</body>\n",
       "</html>"
      ],
      "text/plain": [
       "Viewconf[View[Union[PileupTrack, EnumTrack, HeatmapTrack, IndependentViewportProjectionTrack, CombinedTrack]]](editable=True, viewEditable=True, tracksEditable=True, zoomFixed=None, compactLayout=None, exportViewUrl='/api/v1/viewconfs', trackSourceServers=['http://higlass.io/api/v1'], views=[View[Union[PileupTrack, EnumTrack, HeatmapTrack, IndependentViewportProjectionTrack, CombinedTrack]](layout=Layout(x=0, y=0, w=12, h=6, moved=None, static=None), tracks=Tracks[TrackT][Union[PileupTrack, EnumTrack, HeatmapTrack, IndependentViewportProjectionTrack, CombinedTrack]](left=None, right=None, top=[PileupTrack(type='pileup', uid='FylkvVBTSumoJ959HT4-5A', width=470, height=180, options={'axisPositionHorizontal': 'right', 'axisLabelFormatting': 'normal', 'showCoverage': True, 'colorScale': ['#2c7bb6', '#92c5de', '#ffffbf', '#fdae61', '#808080', '#DCDCDC']}, data={'type': 'bam', 'url': 'https://pkerp.s3.amazonaws.com/public/bamfile_test/SRR1770413.sorted.bam', 'chromSizesUrl': 'https://pkerp.s3.amazonaws.com/public/bamfile_test/GCF_000005845.2_ASM584v2_genomic.chrom.sizes', 'options': {'maxTileWidth': 30000}})], bottom=None, center=None, whole=None, gallery=None), uid=None, autocompleteSource=None, chromInfoPath=None, genomePositionSearchBox=None, genomePositionSearchBoxVisible=None, initialXDomain=(0.0, 100000.0), initialYDomain=None, overlays=None, selectionView=None, zoomFixed=None, zoomLimits=(1, None))], zoomLocks=None, locationLocks=None, valueScaleLocks=None, chromInfoPath=None)"
      ]
     },
     "execution_count": 4,
     "metadata": {},
     "output_type": "execute_result"
    }
   ],
   "source": [
    "from typing import ClassVar, Union\n",
    "from typing_extensions import Literal\n",
    "\n",
    "class PileupTrack(hg.PluginTrack):\n",
    "    type: Literal['pileup'] = \"pileup\"\n",
    "    plugin_url: ClassVar[str] = \"https://unpkg.com/higlass-pileup/dist/higlass-pileup.min.js\"\n",
    "\n",
    "        \n",
    "EnabledTracks = Union[PileupTrack, hg.Track]\n",
    "res = hg.Viewconf[hg.View[EnabledTracks]](**config) # works!\n",
    "res"
   ]
  },
  {
   "cell_type": "code",
   "execution_count": null,
   "id": "5caf10c1",
   "metadata": {},
   "outputs": [],
   "source": []
  },
  {
   "cell_type": "code",
   "execution_count": null,
   "id": "f9d5f8c3",
   "metadata": {},
   "outputs": [],
   "source": []
  },
  {
   "cell_type": "code",
   "execution_count": null,
   "id": "d324eebf",
   "metadata": {},
   "outputs": [],
   "source": []
  }
 ],
 "metadata": {
  "kernelspec": {
   "display_name": "Python 3 (ipykernel)",
   "language": "python",
   "name": "python3"
  },
  "language_info": {
   "codemirror_mode": {
    "name": "ipython",
    "version": 3
   },
   "file_extension": ".py",
   "mimetype": "text/x-python",
   "name": "python",
   "nbconvert_exporter": "python",
   "pygments_lexer": "ipython3",
   "version": "3.7.11"
  }
 },
 "nbformat": 4,
 "nbformat_minor": 5
}
