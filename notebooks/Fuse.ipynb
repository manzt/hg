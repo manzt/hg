{
 "cells": [
  {
   "cell_type": "markdown",
   "id": "2c426b11",
   "metadata": {},
   "source": [
    "# Remote tilesets with `hg.fuse`"
   ]
  },
  {
   "cell_type": "code",
   "execution_count": null,
   "id": "0470b014",
   "metadata": {},
   "outputs": [],
   "source": [
    "import hg\n",
    "import hg.tilesets\n",
    "from hg.fuse import FuseProcess\n",
    "\n",
    "# start fuse process in background\n",
    "fuse = FuseProcess()\n",
    "fuse.start('/my/mnt/dir')\n",
    "\n",
    "# remote bigwig\n",
    "url = 'http://hgdownload.cse.ucsc.edu/goldenpath/hg19/encodeDCC/wgEncodeSydhTfbs/wgEncodeSydhTfbsGm12878InputStdSig.bigWig'\n",
    "\n",
    "# get mapping to local filesystem\n",
    "path = fuse.path(url)\n",
    "# create a tileset and add to tile-server\n",
    "ts = hg.server.add(hg.tilesets.bigwig(path))\n",
    "\n",
    "hg.viewconf(hg.view(hg.track()))"
   ]
  }
 ],
 "metadata": {
  "kernelspec": {
   "display_name": "Python 3 (ipykernel)",
   "language": "python",
   "name": "python3"
  },
  "language_info": {
   "codemirror_mode": {
    "name": "ipython",
    "version": 3
   },
   "file_extension": ".py",
   "mimetype": "text/x-python",
   "name": "python",
   "nbconvert_exporter": "python",
   "pygments_lexer": "ipython3",
   "version": "3.8.12"
  }
 },
 "nbformat": 4,
 "nbformat_minor": 5
}
